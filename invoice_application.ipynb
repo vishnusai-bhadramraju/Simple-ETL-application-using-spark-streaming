{
 "cells": [
  {
   "cell_type": "code",
   "execution_count": 0,
   "metadata": {
    "application/vnd.databricks.v1+cell": {
     "cellMetadata": {
      "byteLimit": 2048000,
      "rowLimit": 10000
     },
     "inputWidgets": {},
     "nuid": "b044202f-9597-4f7f-95a5-ce67f0a59f92",
     "showTitle": false,
     "title": ""
    }
   },
   "outputs": [],
   "source": [
    "class invoiceWC():\n",
    "    def __init__(self):\n",
    "        self.base = '/FileStore/invoices'\n",
    "\n",
    "    def getSchema(self):\n",
    "        return \"\"\"InvoiceNumber string, CreatedTime bigint, StoreID string, PosID string, CashierID string,\n",
    "                CustomerType string, CustomerCardNo string, TotalAmount double, NumberOfItems bigint, \n",
    "                PaymentMethod string, TaxableAmount double, CGST double, SGST double, CESS double, \n",
    "                DeliveryType string,\n",
    "                DeliveryAddress struct<AddressLine string, City string, ContactNumber string, PinCode string, \n",
    "                State string>,\n",
    "                InvoiceLineItems array<struct<ItemCode string, ItemDescription string, \n",
    "                    ItemPrice double, ItemQty bigint, TotalValue double>>\n",
    "            \"\"\"\n",
    "\n",
    "    def readInvoices(self):\n",
    "        from pyspark.sql.functions import explode, split\n",
    "        return (spark.readStream\n",
    "            .format(\"json\")\n",
    "            .schema(self.getSchema())\n",
    "            .load(f\"{self.base}/data\")\n",
    "                )\n",
    "        \n",
    "    def explodeInvoices(self, invoiceDF):\n",
    "        return (invoiceDF.selectExpr(\"InvoiceNumber\", \"CreatedTime\", \"StoreID\", \"PosID\",\n",
    "                                      \"CustomerType\", \"PaymentMethod\", \"DeliveryType\", \"DeliveryAddress.City\",\n",
    "                                      \"DeliveryAddress.State\",\"DeliveryAddress.PinCode\", \n",
    "                                      \"explode(InvoiceLineItems) as LineItem\")\n",
    "                                    )  \n",
    "           \n",
    "    def flattenInvoices(self, explodedDF):\n",
    "        from pyspark.sql.functions import expr\n",
    "        return (explodedDF.withColumn(\"ItemCode\", expr(\"LineItem.ItemCode\"))\n",
    "                        .withColumn(\"ItemDescription\", expr(\"LineItem.ItemDescription\"))\n",
    "                        .withColumn(\"ItemPrice\", expr(\"LineItem.ItemPrice\"))\n",
    "                        .withColumn(\"ItemQty\", expr(\"LineItem.ItemQty\"))\n",
    "                        .withColumn(\"TotalValue\", expr(\"LineItem.TotalValue\"))\n",
    "                        .drop(\"LineItem\")\n",
    "                )\n",
    "    \n",
    "    def appendInvoices(self, flattenedDF):\n",
    "        return (flattenedDF.writeStream\n",
    "                    .format(\"delta\")\n",
    "                    .option(\"checkpointLocation\", f\"{self.base}/checkpoint/invoices\")\n",
    "                    .outputMode(\"append\")\n",
    "                    .toTable(\"invoice_line_items\")\n",
    "        )\n",
    "\n",
    "    def process(self):\n",
    "           print(f\"Starting Invoice Processing Stream...\", end='')\n",
    "           invoicesDF = self.readInvoices()\n",
    "           explodedDF = self.explodeInvoices(invoicesDF)\n",
    "           resultDF = self.flattenInvoices(explodedDF)\n",
    "           sQuery = self.appendInvoices(resultDF)\n",
    "           print(\"Done\\n\")\n",
    "           return sQuery     \n",
    "\n",
    "        "
   ]
  },
  {
   "cell_type": "code",
   "execution_count": 0,
   "metadata": {
    "application/vnd.databricks.v1+cell": {
     "cellMetadata": {},
     "inputWidgets": {},
     "nuid": "c6538bcf-9aef-40a5-87a4-1329cc3c5fe3",
     "showTitle": false,
     "title": ""
    }
   },
   "outputs": [],
   "source": []
  }
 ],
 "metadata": {
  "application/vnd.databricks.v1+notebook": {
   "dashboards": [],
   "environmentMetadata": null,
   "language": "python",
   "notebookMetadata": {
    "pythonIndentUnit": 4
   },
   "notebookName": "invoice_application",
   "widgets": {}
  }
 },
 "nbformat": 4,
 "nbformat_minor": 0
}
